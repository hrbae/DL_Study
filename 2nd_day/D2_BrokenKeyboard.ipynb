{
  "nbformat": 4,
  "nbformat_minor": 0,
  "metadata": {
    "colab": {
      "name": "D2_BrokenKeyboard.ipynb",
      "provenance": [],
      "authorship_tag": "ABX9TyOLdoobPLJSohuOwke22tw/",
      "include_colab_link": true
    },
    "kernelspec": {
      "name": "python3",
      "display_name": "Python 3"
    },
    "language_info": {
      "name": "python"
    }
  },
  "cells": [
    {
      "cell_type": "markdown",
      "metadata": {
        "id": "view-in-github",
        "colab_type": "text"
      },
      "source": [
        "<a href=\"https://colab.research.google.com/github/hrbae/DL_Study/blob/main/2nd_day/D2_BrokenKeyboard.ipynb\" target=\"_parent\"><img src=\"https://colab.research.google.com/assets/colab-badge.svg\" alt=\"Open In Colab\"/></a>"
      ]
    },
    {
      "cell_type": "code",
      "metadata": {
        "id": "Vm-j-vQYKeTB",
        "colab": {
          "base_uri": "https://localhost:8080/"
        },
        "outputId": "4166c0d5-fae7-4722-e33d-ae7507770cb1"
      },
      "source": [
        "# Google drive를 마운트\n",
        "from google.colab import drive\n",
        "drive.mount('/content/drive', force_remount=True)"
      ],
      "execution_count": 2,
      "outputs": [
        {
          "output_type": "stream",
          "text": [
            "Mounted at /content/drive\n"
          ],
          "name": "stdout"
        }
      ]
    },
    {
      "cell_type": "code",
      "metadata": {
        "colab": {
          "base_uri": "https://localhost:8080/"
        },
        "id": "ijZCjofMK5zF",
        "outputId": "8aed4b46-ba71-4fbc-e0a5-ee74896b9dd6"
      },
      "source": [
        "!pwd"
      ],
      "execution_count": 3,
      "outputs": [
        {
          "output_type": "stream",
          "text": [
            "/content\n"
          ],
          "name": "stdout"
        }
      ]
    },
    {
      "cell_type": "code",
      "metadata": {
        "colab": {
          "base_uri": "https://localhost:8080/"
        },
        "id": "-ilb1dItK7Gr",
        "outputId": "45baf728-2099-4bf8-de24-c5dfef30e2eb"
      },
      "source": [
        "%cd drive/MyDrive/Colab\\ Notebooks/Data_Structures"
      ],
      "execution_count": 4,
      "outputs": [
        {
          "output_type": "stream",
          "text": [
            "/content/drive/MyDrive/Colab Notebooks/Data_Structures\n"
          ],
          "name": "stdout"
        }
      ]
    },
    {
      "cell_type": "code",
      "metadata": {
        "colab": {
          "base_uri": "https://localhost:8080/"
        },
        "id": "CfsEC1-yK_ud",
        "outputId": "572db0f6-9723-4b85-e2dd-07fd5cb84420"
      },
      "source": [
        "#with Linked List\n",
        "from DS_Class.LinkedList import LinkedList\n",
        "\n",
        "s = input(\"키보드 타이핑을 하세요\")\n",
        "\n",
        "ll = LinkedList()\n",
        "pointerLoc = ll.head\n",
        "\n",
        "for i in range(len(s)):\n",
        "  if (s[i] == '['):\n",
        "    pointerLoc = ll.head\n",
        "    print(pointerLoc.getElement())\n",
        "  elif (s[i] == ']'):\n",
        "    pointerLoc = ll.Last()\n",
        "  else:\n",
        "    pointerLoc = ll.insertAfter(pointerLoc, s[i])\n",
        "\n",
        "ll.printList()"
      ],
      "execution_count": 13,
      "outputs": [
        {
          "output_type": "stream",
          "text": [
            "키보드 타이핑을 하세요This is [hello] a pen\n",
            "head\n",
            "[h ,e ,l ,l ,o ,T ,h ,i ,s ,  ,i ,s ,  ,  ,a ,  ,p ,e ,n ]"
          ],
          "name": "stdout"
        }
      ]
    }
  ]
}