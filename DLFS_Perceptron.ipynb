{
  "nbformat": 4,
  "nbformat_minor": 0,
  "metadata": {
    "colab": {
      "name": "DLFS_Perceptron.ipynb",
      "provenance": [],
      "authorship_tag": "ABX9TyOm9ZfrsOmcpRimcRM7Vbdw",
      "include_colab_link": true
    },
    "kernelspec": {
      "name": "python3",
      "display_name": "Python 3"
    },
    "language_info": {
      "name": "python"
    }
  },
  "cells": [
    {
      "cell_type": "markdown",
      "metadata": {
        "id": "view-in-github",
        "colab_type": "text"
      },
      "source": [
        "<a href=\"https://colab.research.google.com/github/hrbae/DL_Study/blob/main/DLFS_Perceptron.ipynb\" target=\"_parent\"><img src=\"https://colab.research.google.com/assets/colab-badge.svg\" alt=\"Open In Colab\"/></a>"
      ]
    },
    {
      "cell_type": "code",
      "metadata": {
        "id": "2LnoKEIyjlMb"
      },
      "source": [
        "import numpy as np"
      ],
      "execution_count": 6,
      "outputs": []
    },
    {
      "cell_type": "code",
      "metadata": {
        "id": "p9qZCIIujvJu"
      },
      "source": [
        "def AND(x1, x2):\n",
        "  x=np.array([x1, x2])\n",
        "  w=np.array([0.5, 0.5])\n",
        "  b= -0.7\n",
        "  tmp=np.sum(w*x)+b\n",
        "  if tmp <=0:\n",
        "    return 0\n",
        "  else:\n",
        "    return 1\n"
      ],
      "execution_count": 8,
      "outputs": []
    },
    {
      "cell_type": "code",
      "metadata": {
        "colab": {
          "base_uri": "https://localhost:8080/"
        },
        "id": "Ge9aaBqVkK0x",
        "outputId": "f7a613c5-d676-4cb5-a05b-e90dbb866a70"
      },
      "source": [
        "print(AND(0,0))\n",
        "print(AND(1,0))\n",
        "print(AND(0,1))\n",
        "print(AND(1,1))"
      ],
      "execution_count": 9,
      "outputs": [
        {
          "output_type": "stream",
          "text": [
            "0\n",
            "0\n",
            "0\n",
            "1\n"
          ],
          "name": "stdout"
        }
      ]
    },
    {
      "cell_type": "code",
      "metadata": {
        "id": "m92r5LrWkQTj"
      },
      "source": [
        "def NAND(x1, x2):\n",
        "  x=np.array([x1, x2])\n",
        "  w=np.array([-0.5, -0.5])\n",
        "  b= 0.7\n",
        "  tmp=np.sum(w*x)+b\n",
        "  if tmp <=0:\n",
        "    return 0\n",
        "  else:\n",
        "    return 1\n",
        "  \n",
        "def OR(x1, x2):\n",
        "  x=np.array([x1, x2])\n",
        "  w=np.array([0.5, 0.5])\n",
        "  b= -0.2\n",
        "  tmp=np.sum(w*x)+b\n",
        "  if tmp <=0:\n",
        "    return 0\n",
        "  else:\n",
        "    return 1\n",
        "\n",
        "def XOR(x1, x2):\n",
        "  s1=NAND(x1, x2)\n",
        "  s2=OR(x1,x2)\n",
        "  y = AND(s1, s2)\n",
        "  return y"
      ],
      "execution_count": 12,
      "outputs": []
    },
    {
      "cell_type": "code",
      "metadata": {
        "colab": {
          "base_uri": "https://localhost:8080/"
        },
        "id": "7nGi0CNMk_8D",
        "outputId": "6ed6f9b0-e680-46f9-9867-0f7deea932c0"
      },
      "source": [
        "print(XOR(0,0))\n",
        "print(XOR(1,0))\n",
        "print(XOR(0,1))\n",
        "print(XOR(1,1))"
      ],
      "execution_count": 13,
      "outputs": [
        {
          "output_type": "stream",
          "text": [
            "0\n",
            "1\n",
            "1\n",
            "0\n"
          ],
          "name": "stdout"
        }
      ]
    }
  ]
}